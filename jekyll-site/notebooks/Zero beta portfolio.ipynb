{
 "cells": [
  {
   "cell_type": "code",
   "execution_count": 1,
   "metadata": {
    "collapsed": false
   },
   "outputs": [],
   "source": [
    "%matplotlib inline\n",
    "import pandas as pd\n",
    "import statsmodels.api as sm \n",
    "import numpy as np\n",
    "import pandas.io.data as web\n",
    "import datetime\n",
    "import cvxpy as cvx"
   ]
  },
  {
   "cell_type": "code",
   "execution_count": 2,
   "metadata": {
    "collapsed": false
   },
   "outputs": [],
   "source": [
    "hedge = \"SPXU\" # The ticker to be used for hedging. It should have negative beta\n",
    "FUM = 216309.85 \n",
    "tickers = [\"HMSY\", \"SONC\"] # Tickers to invest in\n",
    "last_prices = { \"HMSY\": 8.43, \"SONC\": 29.26, hedge: 33.55 } # The prices at which the positions will be bought\n",
    "\n",
    "start = datetime.datetime.now() - datetime.timedelta(days=366)\n",
    "end = datetime.datetime.now() - datetime.timedelta(days=1)\n",
    "market = web.DataReader([\"SPY\"], data_source=\"yahoo\", start=start, end=end)[\"Adj Close\"]\n",
    "prices = web.DataReader(tickers + [hedge], data_source=\"yahoo\", start=start, end=end)[\"Adj Close\"]\n",
    "returns = np.log(prices / prices.shift(1))\n",
    "returns = returns[1:]\n",
    "market_returns = np.log(market / market.shift(1))\n",
    "market_returns = market_returns[1:]"
   ]
  },
  {
   "cell_type": "code",
   "execution_count": 34,
   "metadata": {
    "collapsed": false
   },
   "outputs": [
    {
     "name": "stdout",
     "output_type": "stream",
     "text": [
      "HMSY has R^2: 0.0791844805495\n",
      "SONC has R^2: 0.155695556327\n",
      "SPXU has R^2: 0.997658777652\n",
      "HMSY    1.195514\n",
      "SONC    1.086335\n",
      "SPXU   -2.987957\n",
      "dtype: float64\n"
     ]
    }
   ],
   "source": [
    "# Calculate the beta of each ticker and the hedge\n",
    "betas = {}\n",
    "for ticker in returns.columns:\n",
    "    X = sm.add_constant(market_returns['SPY'].values)\n",
    "    ols_result = sm.OLS(returns[ticker].values, X).fit()\n",
    "    betas[ticker] = ols_result.params[1]\n",
    "    print \"{} has R^2: {}\".format(ticker, ols_result.rsquared)\n",
    "betas = pd.Series(betas, index=prices.columns)\n",
    "print betas"
   ]
  },
  {
   "cell_type": "code",
   "execution_count": 35,
   "metadata": {
    "collapsed": false
   },
   "outputs": [
    {
     "data": {
      "text/plain": [
       "HMSY    9284\n",
       "SONC    2674\n",
       "SPXU    1781\n",
       "dtype: float64"
      ]
     },
     "execution_count": 35,
     "metadata": {},
     "output_type": "execute_result"
    }
   ],
   "source": [
    "average_beta = np.average(betas[betas.index - [hedge]])\n",
    "stock_coef = - betas[hedge] / average_beta\n",
    "funds_per_stock = FUM * stock_coef / (stock_coef + 1) / (len(betas) - 1)\n",
    "hedge_funds = FUM / (stock_coef + 1)\n",
    "\n",
    "positions = betas.copy()\n",
    "positions[hedge] = np.floor(hedge_funds / last_prices[hedge])\n",
    "\n",
    "for ticker in (betas.index - [hedge]):\n",
    "    positions[ticker] = np.floor(funds_per_stock / last_prices[ticker])\n",
    "\n",
    "positions"
   ]
  },
  {
   "cell_type": "code",
   "execution_count": 36,
   "metadata": {
    "collapsed": false
   },
   "outputs": [
    {
     "name": "stdout",
     "output_type": "stream",
     "text": [
      "Absolute positions (in $):\n",
      "HMSY    76500.16\n",
      "SONC    78241.24\n",
      "SPXU    59948.46\n",
      "Name: 2015-08-06 00:00:00, dtype: float64\n",
      "Relative positions:\n",
      "HMSY    0.353660\n",
      "SONC    0.361709\n",
      "SPXU    0.277142\n",
      "Name: 2015-08-06 00:00:00, dtype: float64\n"
     ]
    }
   ],
   "source": [
    "abs_positions = np.multiply(prices.ix[-1], positions.T)\n",
    "print \"Absolute positions (in $):\"\n",
    "print abs_positions\n",
    "print \"Relative positions:\"\n",
    "print abs_positions / FUM"
   ]
  },
  {
   "cell_type": "code",
   "execution_count": 15,
   "metadata": {
    "collapsed": false
   },
   "outputs": [
    {
     "name": "stdout",
     "output_type": "stream",
     "text": [
      "Total beta: 0.000351186027443\n"
     ]
    }
   ],
   "source": [
    "print \"Total beta: {}\".format(np.sum(np.multiply(betas, abs_positions.T / FUM)))"
   ]
  },
  {
   "cell_type": "code",
   "execution_count": 20,
   "metadata": {
    "collapsed": false
   },
   "outputs": [
    {
     "name": "stdout",
     "output_type": "stream",
     "text": [
      "          HMSY      SONC      SPXU\n",
      "HMSY  0.001077  0.000109 -0.000187\n",
      "SONC  0.000109  0.000490 -0.000220\n",
      "SPXU -0.000187 -0.000220  0.000823\n",
      "\n",
      "[3 rows x 3 columns]\n",
      "HMSY   -0.002330\n",
      "SONC    0.000432\n",
      "SPXU   -0.001449\n",
      "dtype: float64\n",
      "HMSY    0.032819\n",
      "SONC    0.022132\n",
      "SPXU    0.028682\n",
      "dtype: float64\n"
     ]
    }
   ],
   "source": [
    "print returns.cov()\n",
    "print returns.mean()\n",
    "print returns.std()"
   ]
  },
  {
   "cell_type": "code",
   "execution_count": 19,
   "metadata": {
    "collapsed": false
   },
   "outputs": [
    {
     "data": {
      "text/plain": [
       "1.0492347431040387"
      ]
     },
     "execution_count": 19,
     "metadata": {},
     "output_type": "execute_result"
    }
   ],
   "source": [
    "974.14745711  * 0.00107708 "
   ]
  },
  {
   "cell_type": "code",
   "execution_count": null,
   "metadata": {
    "collapsed": true
   },
   "outputs": [],
   "source": []
  }
 ],
 "metadata": {
  "kernelspec": {
   "display_name": "Python 2",
   "language": "python",
   "name": "python2"
  },
  "language_info": {
   "codemirror_mode": {
    "name": "ipython",
    "version": 2
   },
   "file_extension": ".py",
   "mimetype": "text/x-python",
   "name": "python",
   "nbconvert_exporter": "python",
   "pygments_lexer": "ipython2",
   "version": "2.7"
  }
 },
 "nbformat": 4,
 "nbformat_minor": 0
}
