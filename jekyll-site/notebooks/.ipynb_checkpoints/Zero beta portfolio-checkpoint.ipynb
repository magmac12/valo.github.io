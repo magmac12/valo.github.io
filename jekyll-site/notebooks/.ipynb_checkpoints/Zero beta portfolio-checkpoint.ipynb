{
 "cells": [
  {
   "cell_type": "code",
   "execution_count": 2,
   "metadata": {
    "collapsed": false
   },
   "outputs": [],
   "source": [
    "%matplotlib inline\n",
    "import pandas as pd\n",
    "import statsmodels.api as sm \n",
    "import numpy as np\n",
    "import pandas.io.data as web\n",
    "import datetime\n",
    "import cvxpy as cvx"
   ]
  },
  {
   "cell_type": "code",
   "execution_count": 8,
   "metadata": {
    "collapsed": false
   },
   "outputs": [],
   "source": [
    "hedge = \"SPXU\" # The ticker to be used for hedging. It should have negative beta\n",
    "FUM = 100000 \n",
    "tickers = [\"MSFT\", \"WMT\"] # Tickers to invest in\n",
    "last_prices = { \"MSFT\": 46.62, \"WMT\": 72.79, hedge: 33.66 } # The prices at which the positions will be bought\n",
    "\n",
    "start = datetime.datetime.now() - datetime.timedelta(days=366)\n",
    "end = datetime.datetime.now() - datetime.timedelta(days=1)\n",
    "market = web.DataReader([\"SPY\"], data_source=\"yahoo\", start=start, end=end)[\"Adj Close\"]\n",
    "prices = web.DataReader(tickers + [hedge], data_source=\"yahoo\", start=start, end=end)[\"Adj Close\"]\n",
    "returns = np.log(prices / prices.shift(1))\n",
    "returns = returns[1:]\n",
    "market_returns = np.log(market / market.shift(1))\n",
    "market_returns = market_returns[1:]"
   ]
  },
  {
   "cell_type": "code",
   "execution_count": 9,
   "metadata": {
    "collapsed": false
   },
   "outputs": [
    {
     "name": "stdout",
     "output_type": "stream",
     "text": [
      "MSFT    1.184587\n",
      "SPXU   -2.987957\n",
      "WMT     0.701002\n",
      "dtype: float64\n"
     ]
    }
   ],
   "source": [
    "# Calculate the beta of each ticker and the hedge\n",
    "betas = {}\n",
    "for ticker in returns.columns:\n",
    "    X = sm.add_constant(market_returns['SPY'].values)\n",
    "    ols_result = sm.OLS(returns[ticker].values, X).fit()\n",
    "    betas[ticker] = ols_result.params[1]\n",
    "betas = pd.Series(betas, index=prices.columns)\n",
    "print betas"
   ]
  },
  {
   "cell_type": "code",
   "execution_count": 11,
   "metadata": {
    "collapsed": false
   },
   "outputs": [
    {
     "data": {
      "text/plain": [
       "MSFT    815\n",
       "SPXU    712\n",
       "WMT     522\n",
       "dtype: float64"
      ]
     },
     "execution_count": 11,
     "metadata": {},
     "output_type": "execute_result"
    }
   ],
   "source": [
    "average_beta = np.average(betas[betas.index - [hedge]])\n",
    "stock_coef = - betas[hedge] / average_beta\n",
    "funds_per_stock = FUM * stock_coef / (stock_coef + 1) / (len(betas) - 1)\n",
    "hedge_funds = FUM / (stock_coef + 1)\n",
    "\n",
    "positions = betas.copy()\n",
    "positions[hedge] = np.floor(hedge_funds / last_prices[hedge])\n",
    "\n",
    "for ticker in (betas.index - [hedge]):\n",
    "    positions[ticker] = np.floor(funds_per_stock / last_prices[ticker])\n",
    "\n",
    "positions"
   ]
  },
  {
   "cell_type": "code",
   "execution_count": 14,
   "metadata": {
    "collapsed": false
   },
   "outputs": [
    {
     "name": "stdout",
     "output_type": "stream",
     "text": [
      "Absolute positions (in $):\n",
      "MSFT    37995.299185\n",
      "SPXU    23965.920000\n",
      "WMT     37996.380522\n",
      "Name: 2015-08-06 00:00:00, dtype: float64\n",
      "Relative positions:\n",
      "MSFT    0.379953\n",
      "SPXU    0.239659\n",
      "WMT     0.379964\n",
      "Name: 2015-08-06 00:00:00, dtype: float64\n"
     ]
    }
   ],
   "source": [
    "abs_positions = np.multiply(prices.ix[-1], positions.T)\n",
    "print \"Absolute positions (in $):\"\n",
    "print abs_positions\n",
    "print \"Relative positions:\"\n",
    "print abs_positions / FUM"
   ]
  },
  {
   "cell_type": "code",
   "execution_count": 15,
   "metadata": {
    "collapsed": false
   },
   "outputs": [
    {
     "name": "stdout",
     "output_type": "stream",
     "text": [
      "Total beta: 0.000351186027443\n"
     ]
    }
   ],
   "source": [
    "print \"Total beta: {}\".format(np.sum(np.multiply(betas, abs_positions.T / FUM)))"
   ]
  },
  {
   "cell_type": "code",
   "execution_count": null,
   "metadata": {
    "collapsed": true
   },
   "outputs": [],
   "source": []
  },
  {
   "cell_type": "code",
   "execution_count": null,
   "metadata": {
    "collapsed": true
   },
   "outputs": [],
   "source": []
  }
 ],
 "metadata": {
  "kernelspec": {
   "display_name": "Python 2",
   "language": "python",
   "name": "python2"
  },
  "language_info": {
   "codemirror_mode": {
    "name": "ipython",
    "version": 2
   },
   "file_extension": ".py",
   "mimetype": "text/x-python",
   "name": "python",
   "nbconvert_exporter": "python",
   "pygments_lexer": "ipython2",
   "version": "2.7"
  }
 },
 "nbformat": 4,
 "nbformat_minor": 0
}
