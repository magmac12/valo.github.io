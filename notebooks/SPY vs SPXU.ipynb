{
 "cells": [
  {
   "cell_type": "code",
   "execution_count": 1,
   "metadata": {
    "collapsed": false
   },
   "outputs": [],
   "source": [
    "%matplotlib inline\n",
    "import pandas as pd\n",
    "import statsmodels.api as sm \n",
    "import numpy as np\n",
    "import pandas.io.data as web\n",
    "import datetime"
   ]
  },
  {
   "cell_type": "code",
   "execution_count": 2,
   "metadata": {
    "collapsed": false
   },
   "outputs": [],
   "source": [
    "start = datetime.datetime(2010, 1, 1)\n",
    "end = datetime.datetime(2014, 12, 31)\n",
    "prices = web.DataReader([\"SPY\", \"SPXU\"], data_source=\"yahoo\", start=start, end=end)[\"Adj Close\"]\n",
    "returns = np.log(prices / prices.shift(1))\n",
    "returns = returns[1:]"
   ]
  },
  {
   "cell_type": "code",
   "execution_count": 3,
   "metadata": {
    "collapsed": false
   },
   "outputs": [],
   "source": [
    "def compute_ols_beta(returns_window):\n",
    "    X = sm.add_constant(returns_window['SPXU'].values)\n",
    "    ols_result = sm.OLS(returns_window['SPY'].values, X).fit()\n",
    "    return ols_result.params[1]\n",
    "\n",
    "def rolling_apply_df(df, window, func):\n",
    "    return pd.Series((compute_ols_beta(df[i:i + window]) for i in range(len(df) - window)), index=df.index[window:])\n",
    "\n",
    "ols_window = 120\n",
    "beta_over_time = rolling_apply_df(returns, ols_window, compute_ols_beta)"
   ]
  },
  {
   "cell_type": "code",
   "execution_count": 4,
   "metadata": {
    "collapsed": false
   },
   "outputs": [
    {
     "data": {
      "text/plain": [
       "<matplotlib.axes._subplots.AxesSubplot at 0x108e55750>"
      ]
     },
     "execution_count": 4,
     "metadata": {},
     "output_type": "execute_result"
    },
    {
     "data": {
      "image/png": "[encoded data removed]",
      "text/plain": [
       "<matplotlib.figure.Figure at 0x1033a7fd0>"
      ]
     },
     "metadata": {},
     "output_type": "display_data"
    }
   ],
   "source": [
    "beta_over_time.plot()"
   ]
  },
  {
   "cell_type": "code",
   "execution_count": 5,
   "metadata": {
    "collapsed": false
   },
   "outputs": [
    {
     "name": "stdout",
     "output_type": "stream",
     "text": [
      "                            OLS Regression Results                            \n",
      "==============================================================================\n",
      "Dep. Variable:                      y   R-squared:                       0.992\n",
      "Model:                            OLS   Adj. R-squared:                  0.992\n",
      "Method:                 Least Squares   F-statistic:                 1.593e+05\n",
      "Date:                Wed, 08 Jul 2015   Prob (F-statistic):               0.00\n",
      "Time:                        19:24:48   Log-Likelihood:                 7047.7\n",
      "No. Observations:                1256   AIC:                        -1.409e+04\n",
      "Df Residuals:                    1254   BIC:                        -1.408e+04\n",
      "Df Model:                           1                                         \n",
      "Covariance Type:            nonrobust                                         \n",
      "==============================================================================\n",
      "                 coef    std err          t      P>|t|      [95.0% Conf. Int.]\n",
      "------------------------------------------------------------------------------\n",
      "const         -0.0002   2.51e-05     -8.615      0.000        -0.000    -0.000\n",
      "x1            -0.3340      0.001   -399.144      0.000        -0.336    -0.332\n",
      "==============================================================================\n",
      "Omnibus:                      765.986   Durbin-Watson:                   2.533\n",
      "Prob(Omnibus):                  0.000   Jarque-Bera (JB):           473228.381\n",
      "Skew:                          -1.441   Prob(JB):                         0.00\n",
      "Kurtosis:                      98.049   Cond. No.                         33.5\n",
      "==============================================================================\n",
      "\n",
      "Warnings:\n",
      "[1] Standard Errors assume that the covariance matrix of the errors is correctly specified.\n"
     ]
    }
   ],
   "source": [
    "X = sm.add_constant(returns['SPXU'].values[1:])\n",
    "result = sm.OLS(returns['SPY'].values[1:], X).fit()\n",
    "print(result.summary())"
   ]
  }
 ],
 "metadata": {
  "kernelspec": {
   "display_name": "Python 2",
   "language": "python",
   "name": "python2"
  },
  "language_info": {
   "codemirror_mode": {
    "name": "ipython",
    "version": 2
   },
   "file_extension": ".py",
   "mimetype": "text/x-python",
   "name": "python",
   "nbconvert_exporter": "python",
   "pygments_lexer": "ipython2",
   "version": "2.7"
  }
 },
 "nbformat": 4,
 "nbformat_minor": 0
}
